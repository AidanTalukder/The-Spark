{
 "cells": [
  {
   "cell_type": "markdown",
   "metadata": {},
   "source": [
    "# The Spark: A Computer Science Pet Project and Dynamic Utility for The First of Latanach: A West Marches Pathfinder 2e TTRPG Campaign\n",
    "The Spark is a simple Discord bot with an evolvion suite of funcionalities. This micro-project began with a simple string randomizer; players gave me four rumors each about their characters that I then randomly shuffled and doled out to the rest of the players. That task evolved into: \"What if that process was entirely automated?\" / \"What if I turned a 15-minute task into a 3 hour one where I learn Discord's developer API for fun?\" Thus, The Spark was born.\n",
    "\n",
    "The Spark aims to offer the following functions:\n",
    "- [ X ] Rumor distribution\n",
    "- [ X ] Individual and batch messaging to server members\n",
    "- [ - ] Role-based availability tracking\n",
    "- [ - ] Secret player-to-player messages with no GM oversight\n",
    "\n",
    "The Spark is extremely developer-reliant. Its functionality was initially limited to manually performed calls for specific tasks, such as messaging players though that changed with the introduction of a role-based availability tracker. My players are heavily invested into the game and many of them play twice or even three times in a single week. I want a way for players to be marked as \"On Mission\" or \"On Break\" through use of Discord's roles system. In this way, players can organize groups with the understanding of who has already gone on a mission this week, increasing weekly player throughput and participation in quieter individuals who may have otherwise gotten steamrolled by louder, slightly more involved ones."
   ]
  },
  {
   "cell_type": "code",
   "execution_count": 8,
   "metadata": {},
   "outputs": [
    {
     "name": "stdout",
     "output_type": "stream",
     "text": [
      "sys.path: ['c:\\\\Users\\\\mrats\\\\AppData\\\\Local\\\\Programs\\\\Python\\\\Python312\\\\python312.zip', 'c:\\\\Users\\\\mrats\\\\AppData\\\\Local\\\\Programs\\\\Python\\\\Python312\\\\DLLs', 'c:\\\\Users\\\\mrats\\\\AppData\\\\Local\\\\Programs\\\\Python\\\\Python312\\\\Lib', 'c:\\\\Users\\\\mrats\\\\AppData\\\\Local\\\\Programs\\\\Python\\\\Python312', '', 'C:\\\\Users\\\\mrats\\\\AppData\\\\Roaming\\\\Python\\\\Python312\\\\site-packages', 'c:\\\\Users\\\\mrats\\\\AppData\\\\Local\\\\Programs\\\\Python\\\\Python312\\\\Lib\\\\site-packages', 'c:\\\\Users\\\\mrats\\\\AppData\\\\Local\\\\Programs\\\\Python\\\\Python312\\\\Lib\\\\site-packages\\\\win32', 'c:\\\\Users\\\\mrats\\\\AppData\\\\Local\\\\Programs\\\\Python\\\\Python312\\\\Lib\\\\site-packages\\\\win32\\\\lib', 'c:\\\\Users\\\\mrats\\\\AppData\\\\Local\\\\Programs\\\\Python\\\\Python312\\\\Lib\\\\site-packages\\\\Pythonwin', 'c:\\\\Users\\\\mrats\\\\Desktop\\\\Uni\\\\Personal\\\\The Spark Bot\\\\Manual Commands', 'c:\\\\Users\\\\mrats\\\\Desktop\\\\Uni\\\\Personal\\\\The Spark Bot\\\\Manual Commands']\n",
      "Error: No module named 'DistributeRumors'\n"
     ]
    }
   ],
   "source": [
    "import pandas as pd\n",
    "import numpy as np\n",
    "import random\n",
    "import discord\n",
    "from discord.ext import commands\n",
    "import nest_asyncio\n",
    "import sys\n",
    "import os\n",
    "from pathlib import Path\n",
    "\n",
    "# custom .pys\n",
    "## Ensure the correct path is added to sys.path\n",
    "sys.path.append(os.path.join(os.getcwd(), 'Manual Commands'))\n",
    "\n",
    "## Debugging: Print sys.path to verify the directory is added\n",
    "print(\"sys.path:\", sys.path)\n",
    "\n",
    "## Try importing the modules\n",
    "try:\n",
    "    from Messaging import MessagePlayer, MessageGroup\n",
    "    from Getters import getAllUIDs, getAllMembers\n",
    "    from DistributeRumors import DistributeRumors, DistributeRumorsTest\n",
    "except ModuleNotFoundError as e:\n",
    "    print(f\"Error: {e}\")"
   ]
  },
  {
   "cell_type": "code",
   "execution_count": 9,
   "metadata": {},
   "outputs": [],
   "source": [
    "# create the txt containing the different rumors we want to distribute to server members\n",
    "#%run CreateRumorChunks.py\n",
    "\n",
    "# run nest_asyncio so the bot works in a jupyter notebook\n",
    "nest_asyncio.apply()"
   ]
  },
  {
   "cell_type": "code",
   "execution_count": 10,
   "metadata": {},
   "outputs": [],
   "source": [
    "# bot setup\n",
    "intents = discord.Intents.default()\n",
    "intents.members = True # Enable member intents\n",
    "intents.message_content = True\n",
    "bot = commands.Bot(command_prefix=\"!\", intents=intents)"
   ]
  },
  {
   "cell_type": "code",
   "execution_count": 11,
   "metadata": {},
   "outputs": [],
   "source": [
    "# Discord UIDs for myself and members of the server I don't want to send rumors to\n",
    "my_UID = 16511321354563468 # changed for security\n",
    "blacklisted_UIDs = {16511321354563468, 16511321354563468, 16511321354563468} # changed for security\n",
    "\n",
    "# Discord Server ID\n",
    "FoL_ID = 16511321354563468 # changed for security"
   ]
  },
  {
   "cell_type": "code",
   "execution_count": 12,
   "metadata": {},
   "outputs": [],
   "source": [
    "@bot.event\n",
    "async def on_ready():\n",
    "\n",
    "##################################################### LOG IN #####################################################\n",
    "\n",
    "    # logs bot into the guild (server) of interest\n",
    "    print(f\"We have logged in as {bot.user}\")\n",
    "    guild = bot.get_guild(FoL_ID) # in this case, the server of interest is FoL as defined above\n",
    "    if not guild:\n",
    "        print(\"Bot is not in the specified server.\")\n",
    "\n",
    "##################################################### LOG IN #####################################################\n",
    "\n",
    "\n",
    "\n",
    "########################################### vvv RUNTIME OPERATIONS vvv ###########################################\n",
    "\n",
    "    #await DistributeRumorsTest(bot, my_UID, blacklisted_UIDs, guild)\n",
    "    # await MessagePlayer(my_UID, guild, \"()x() <---- That's like an asshole kind of\")\n",
    "    # await MessageGroup(UIDLIST, guild, False, \"This is a test and I apologize :pray:. If you could send me a screenshot/copy paste this message that'd be grand thank you! \\<3\")\n",
    "\n",
    "    UIDs = await getAllUIDs(guild, blacklisted_UIDs)\n",
    "    await MessageGroup(UIDs, guild, False, \"Heard you wanna see my ass and/or dick and balls... That true??? :woozy_face:\")\n",
    "\n",
    "########################################### ^^^ RUNTIME OPERATIONS ^^^ ###########################################\n",
    "\n",
    "\n",
    "\n",
    "    await bot.close()"
   ]
  },
  {
   "cell_type": "code",
   "execution_count": 13,
   "metadata": {},
   "outputs": [
    {
     "name": "stderr",
     "output_type": "stream",
     "text": [
      "[2024-12-19 15:21:43] [INFO    ] discord.client: logging in using static token\n",
      "[2024-12-19 15:21:43] [INFO    ] discord.client: logging in using static token\n",
      "[2024-12-19 15:21:44] [INFO    ] discord.gateway: Shard ID None has connected to Gateway (Session ID: 81da6e1f35416c1d04349e67586504d2).\n",
      "[2024-12-19 15:21:44] [INFO    ] discord.gateway: Shard ID None has connected to Gateway (Session ID: 81da6e1f35416c1d04349e67586504d2).\n"
     ]
    },
    {
     "name": "stdout",
     "output_type": "stream",
     "text": [
      "We have logged in as The Spark#7878\n",
      "User IDs in this server: [97105713041522688, 367538325583822859, 373165650002051074, 398976656351559694, 470702641350049793, 493506239653740584, 513146191878422529, 581667191683022848, 651068728968216606, 669671431658930242, 687479310985986122, 695086141107339264, 755253867180064859, 755510309858574487, 879186597508169779, 1193408047377301524]\n",
      "Sending non-anonymous message to snuggs000\n",
      "Sending non-anonymous message to beepo9709\n",
      "Sending non-anonymous message to rowanesque\n",
      "Sending non-anonymous message to swiftshadowfox\n",
      "Sending non-anonymous message to hydrohomie03\n",
      "Sending non-anonymous message to ach1lles05\n",
      "Sending non-anonymous message to brittsky\n",
      "Sending non-anonymous message to copperue\n",
      "Sending non-anonymous message to thatnerdseth\n",
      "Sending non-anonymous message to krawkenku\n",
      "Sending non-anonymous message to random_username87562\n",
      "Sending non-anonymous message to oceanwaveshi\n",
      "Sending non-anonymous message to danielprestin\n",
      "Sending non-anonymous message to _theproblem_\n",
      "Sending non-anonymous message to alisa5994\n",
      "Sending non-anonymous message to talkativeaquarius\n"
     ]
    }
   ],
   "source": [
    "bot.run(\"MTMxOTM5MTY1NDAwODA2NjEzOQ.GOhn9K._NC4cUcJonjoAn1Ibz3rdcQ_LJchmrJQQlnX1Y\")"
   ]
  },
  {
   "cell_type": "code",
   "execution_count": null,
   "metadata": {},
   "outputs": [],
   "source": []
  }
 ],
 "metadata": {
  "kernelspec": {
   "display_name": "Python 3",
   "language": "python",
   "name": "python3"
  },
  "language_info": {
   "codemirror_mode": {
    "name": "ipython",
    "version": 3
   },
   "file_extension": ".py",
   "mimetype": "text/x-python",
   "name": "python",
   "nbconvert_exporter": "python",
   "pygments_lexer": "ipython3",
   "version": "3.12.2"
  }
 },
 "nbformat": 4,
 "nbformat_minor": 2
}
